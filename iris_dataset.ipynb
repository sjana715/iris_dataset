{
  "nbformat": 4,
  "nbformat_minor": 0,
  "metadata": {
    "colab": {
      "provenance": []
    },
    "kernelspec": {
      "name": "python3",
      "display_name": "Python 3"
    },
    "language_info": {
      "name": "python"
    }
  },
  "cells": [
    {
      "cell_type": "code",
      "execution_count": 51,
      "metadata": {
        "id": "frR6TfgOFStm"
      },
      "outputs": [],
      "source": [
        "# Import the dataset from sklearn\n",
        "from sklearn import datasets\n",
        "from sklearn import tree\n",
        "from sklearn.model_selection import train_test_split\n",
        "from sklearn.metrics import accuracy_score\n",
        "from sklearn.model_selection import KFold, cross_val_score\n",
        "from sklearn.linear_model import LogisticRegression\n",
        "import numpy as np \n"
      ]
    },
    {
      "cell_type": "code",
      "source": [
        "# Load the iris dataset\n",
        "iris = datasets.load_iris()\n",
        "data = iris.data\n",
        "target = iris.target"
      ],
      "metadata": {
        "id": "D59fxkp4Ngzp"
      },
      "execution_count": 29,
      "outputs": []
    },
    {
      "cell_type": "code",
      "source": [
        "# Split the data into training and testing\n",
        "x_train, x_test, y_train, y_test = train_test_split(data, target, test_size=0.5, random_state=42)"
      ],
      "metadata": {
        "id": "l__3i32bhlez"
      },
      "execution_count": 40,
      "outputs": []
    },
    {
      "cell_type": "code",
      "source": [
        "# Hyperparameter tuning of the max_depth parameter\n",
        "for max_depth in [4, 5, 6, 7]:\n",
        "\n",
        "  # Create Decision Tree Classifier\n",
        "  clf = tree.DecisionTreeClassifier(max_depth=max_depth)\n",
        "\n",
        "  # Fit the data to the model\n",
        "  # Have the Decision Tree Classifier learn from the data\n",
        "  clf = clf.fit(x_train, y_train)\n",
        "\n",
        "  # Predict the testing data\n",
        "  predictions = clf.predict(x_test)\n",
        "\n",
        "  # Check the accuracy of the predicit\n",
        "  accuracy = accuracy_score(predictions, y_test)\n",
        "  print(f'Max depth={max_depth}, accuracy={accuracy}')\n"
      ],
      "metadata": {
        "colab": {
          "base_uri": "https://localhost:8080/"
        },
        "id": "wdsEvqDbNlDH",
        "outputId": "28915ad2-57b7-44f7-ae5c-58d8293cbe10"
      },
      "execution_count": 43,
      "outputs": [
        {
          "output_type": "stream",
          "name": "stdout",
          "text": [
            "Max depth=4, accuracy=0.8933333333333333\n",
            "Max depth=5, accuracy=0.9333333333333333\n",
            "Max depth=6, accuracy=0.9466666666666667\n",
            "Max depth=7, accuracy=0.92\n"
          ]
        }
      ]
    },
    {
      "cell_type": "code",
      "source": [
        "# Give the four data points to the machine learning model and have it predict the type of flower\n",
        "clf.predict([[5.9, 3, 5.1, 1.8]])"
      ],
      "metadata": {
        "colab": {
          "base_uri": "https://localhost:8080/"
        },
        "id": "h_ln0uBjPzKO",
        "outputId": "743e31c5-e49a-4dcf-e2b7-3bea9ae9ba37"
      },
      "execution_count": 28,
      "outputs": [
        {
          "output_type": "execute_result",
          "data": {
            "text/plain": [
              "array([2])"
            ]
          },
          "metadata": {},
          "execution_count": 28
        }
      ]
    },
    {
      "cell_type": "code",
      "source": [
        "#k-fold cross-validation\n",
        "k = 5\n",
        "kfold = KFold(n_splits=k, shuffle=True, random_state=1)\n",
        "\n",
        "model = LogisticRegression()\n",
        "\n",
        "scores = cross_val_score(model, data, target, cv=kfold)\n",
        "print(scores)\n",
        "\n",
        "print(f\"Mean: {scores.mean():.3f}\")\n",
        "print(f\"Std Dev: {scores.std():.3f}\")\n"
      ],
      "metadata": {
        "colab": {
          "base_uri": "https://localhost:8080/"
        },
        "id": "lAm2oNhrm4f3",
        "outputId": "ec857e77-83dc-4bcf-ca32-2648a55b617b"
      },
      "execution_count": 53,
      "outputs": [
        {
          "output_type": "stream",
          "name": "stdout",
          "text": [
            "[0.96666667 0.96666667 0.93333333 0.93333333 1.        ]\n",
            "Mean: 0.960\n",
            "Std Dev: 0.025\n"
          ]
        },
        {
          "output_type": "stream",
          "name": "stderr",
          "text": [
            "/usr/local/lib/python3.8/dist-packages/sklearn/linear_model/_logistic.py:814: ConvergenceWarning: lbfgs failed to converge (status=1):\n",
            "STOP: TOTAL NO. of ITERATIONS REACHED LIMIT.\n",
            "\n",
            "Increase the number of iterations (max_iter) or scale the data as shown in:\n",
            "    https://scikit-learn.org/stable/modules/preprocessing.html\n",
            "Please also refer to the documentation for alternative solver options:\n",
            "    https://scikit-learn.org/stable/modules/linear_model.html#logistic-regression\n",
            "  n_iter_i = _check_optimize_result(\n",
            "/usr/local/lib/python3.8/dist-packages/sklearn/linear_model/_logistic.py:814: ConvergenceWarning: lbfgs failed to converge (status=1):\n",
            "STOP: TOTAL NO. of ITERATIONS REACHED LIMIT.\n",
            "\n",
            "Increase the number of iterations (max_iter) or scale the data as shown in:\n",
            "    https://scikit-learn.org/stable/modules/preprocessing.html\n",
            "Please also refer to the documentation for alternative solver options:\n",
            "    https://scikit-learn.org/stable/modules/linear_model.html#logistic-regression\n",
            "  n_iter_i = _check_optimize_result(\n",
            "/usr/local/lib/python3.8/dist-packages/sklearn/linear_model/_logistic.py:814: ConvergenceWarning: lbfgs failed to converge (status=1):\n",
            "STOP: TOTAL NO. of ITERATIONS REACHED LIMIT.\n",
            "\n",
            "Increase the number of iterations (max_iter) or scale the data as shown in:\n",
            "    https://scikit-learn.org/stable/modules/preprocessing.html\n",
            "Please also refer to the documentation for alternative solver options:\n",
            "    https://scikit-learn.org/stable/modules/linear_model.html#logistic-regression\n",
            "  n_iter_i = _check_optimize_result(\n",
            "/usr/local/lib/python3.8/dist-packages/sklearn/linear_model/_logistic.py:814: ConvergenceWarning: lbfgs failed to converge (status=1):\n",
            "STOP: TOTAL NO. of ITERATIONS REACHED LIMIT.\n",
            "\n",
            "Increase the number of iterations (max_iter) or scale the data as shown in:\n",
            "    https://scikit-learn.org/stable/modules/preprocessing.html\n",
            "Please also refer to the documentation for alternative solver options:\n",
            "    https://scikit-learn.org/stable/modules/linear_model.html#logistic-regression\n",
            "  n_iter_i = _check_optimize_result(\n"
          ]
        }
      ]
    },
    {
      "cell_type": "code",
      "source": [],
      "metadata": {
        "id": "ehx_2PVfo5ST"
      },
      "execution_count": null,
      "outputs": []
    }
  ]
}